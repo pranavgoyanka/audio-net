{
 "cells": [
  {
   "cell_type": "code",
   "execution_count": 2,
   "metadata": {},
   "outputs": [],
   "source": [
    "import soundfile as sf\n",
    "from scipy import signal"
   ]
  },
  {
   "cell_type": "code",
   "execution_count": 3,
   "metadata": {},
   "outputs": [
    {
     "name": "stdout",
     "output_type": "stream",
     "text": [
      "[0.00000000e+00 0.00000000e+00 0.00000000e+00 ... 6.10351562e-05\n",
      " 6.10351562e-05 3.05175781e-05] 44100\n"
     ]
    }
   ],
   "source": [
    "data, samplerate = sf.read('./data/OrangeMicroDark/OrangeMicroDark_in.wav')\n",
    "print(data, samplerate)"
   ]
  },
  {
   "cell_type": "code",
   "execution_count": 14,
   "metadata": {},
   "outputs": [],
   "source": [
    "def irConv(data_path, ir_path, out_path):\n",
    "  # Perform convolution with an IR\n",
    "  data, samplerate = sf.read(data_path)\n",
    "  ir_data, ir_samplerate = sf.read(ir_path)\n",
    "  if samplerate == ir_samplerate:\n",
    "    out_data = signal.fftconvolve(data, ir_data).real\n",
    "\n",
    "    # TODO normalize the signal\n",
    "\n",
    "    sf.write(out_path, out_data, ir_samplerate)\n",
    "\n",
    "    print(\"Output file:\", out_path)\n",
    "    print(\"Convolution success.\")\n",
    "  else:\n",
    "      print(\"Error: files has different sample rate.\", samplerate, ir_samplerate)\n",
    "  "
   ]
  },
  {
   "cell_type": "code",
   "execution_count": 17,
   "metadata": {},
   "outputs": [],
   "source": [
    "def changeSampleRate(originalFilePath, destFilePath, requiredSampleRate):\n",
    "  data, samplerate = sf.read(originalFilePath)\n",
    "  sf.write(destFilePath, data, requiredSampleRate, subtype='PCM_16')"
   ]
  },
  {
   "cell_type": "code",
   "execution_count": 18,
   "metadata": {},
   "outputs": [
    {
     "name": "stdout",
     "output_type": "stream",
     "text": [
      "Output file: ./data/OrangeMicroDark/post_conv.wav\n",
      "Convolution success.\n",
      "Output file: ./data/OrangeMicroDark/post_conv2.wav\n",
      "Convolution success.\n",
      "Error: files has different sample rate. 44100 48000\n",
      "Output file: ./data/OrangeMicroDark/post_conv_axefx.wav\n",
      "Convolution success.\n"
     ]
    }
   ],
   "source": [
    "irConv('./data/OrangeMicroDark/OrangeMicroDark_in.wav', \"data/Guitar Cabinet IR.wav\", \"./data/OrangeMicroDark/post_conv.wav\")\n",
    "irConv('./data/OrangeMicroDark/OrangeMicroDark_in.wav', \"data/fletcher_munson_IR_truncated.wav\", \"./data/OrangeMicroDark/post_conv2.wav\")\n",
    "irConv('./data/OrangeMicroDark/OrangeMicroDark_in.wav', \n",
    "        \"/Users/pranav/Lemon/Music/Guitar Presets/Archetype Tim Henson/Tatsu Archetype Tim Henson Preset Pack/Solo 100 Lead/axefxii-solo100lead.v12.wav\", \n",
    "        \"./data/OrangeMicroDark/post_conv_axefx.wav\")\n",
    "changeSampleRate( \"/Users/pranav/Lemon/Music/Guitar Presets/Archetype Tim Henson/Tatsu Archetype Tim Henson Preset Pack/Solo 100 Lead/axefxii-solo100lead.v12.wav\",\n",
    "                 \"./data/axefx_44100_ir.wav\",\n",
    "                 44100)\n",
    "irConv('./data/OrangeMicroDark/OrangeMicroDark_in.wav', \"data/axefx_44100_ir.wav\", \"./data/OrangeMicroDark/post_conv_axefx.wav\")\n"
   ]
  },
  {
   "cell_type": "code",
   "execution_count": 19,
   "metadata": {},
   "outputs": [
    {
     "name": "stdout",
     "output_type": "stream",
     "text": [
      "Output file: ./data/OrangeMicroDark/post_conv_disto_axefx.wav\n",
      "Convolution success.\n"
     ]
    }
   ],
   "source": [
    "irConv('./data/OrangeMicroDark/OrangeMicroDark_disto.wav', \"data/axefx_44100_ir.wav\", \"./data/OrangeMicroDark/post_conv_disto_axefx.wav\")\n"
   ]
  }
 ],
 "metadata": {
  "kernelspec": {
   "display_name": "audio-net",
   "language": "python",
   "name": "python3"
  },
  "language_info": {
   "codemirror_mode": {
    "name": "ipython",
    "version": 3
   },
   "file_extension": ".py",
   "mimetype": "text/x-python",
   "name": "python",
   "nbconvert_exporter": "python",
   "pygments_lexer": "ipython3",
   "version": "3.12.1"
  }
 },
 "nbformat": 4,
 "nbformat_minor": 2
}
